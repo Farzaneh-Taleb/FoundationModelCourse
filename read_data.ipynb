{
 "cells": [
  {
   "cell_type": "code",
   "id": "initial_id",
   "metadata": {
    "collapsed": true,
    "ExecuteTime": {
     "end_time": "2024-06-27T20:17:59.673486Z",
     "start_time": "2024-06-27T20:17:59.668018Z"
    }
   },
   "source": [
    "import pandas as pd\n",
    "import os\n",
    "from helpers.utils import *"
   ],
   "outputs": [],
   "execution_count": 59
  },
  {
   "metadata": {
    "ExecuteTime": {
     "end_time": "2024-06-27T20:17:59.860344Z",
     "start_time": "2024-06-27T20:17:59.857912Z"
    }
   },
   "cell_type": "code",
   "source": "base_path= '../../../T5 EVO/'",
   "id": "2340c1a98f99ac4b",
   "outputs": [],
   "execution_count": 60
  },
  {
   "metadata": {
    "ExecuteTime": {
     "end_time": "2024-06-27T20:18:00.000755Z",
     "start_time": "2024-06-27T20:17:59.998262Z"
    }
   },
   "cell_type": "code",
   "source": "input_file_keller_molformer = base_path+'alignment_olfaction_datasets/data/curated_datasets/embeddings/molformer/keller_molformer_embeddings_'+str(13)+'_Apr17.csv'",
   "id": "e8df684f07d978fa",
   "outputs": [],
   "execution_count": 61
  },
  {
   "metadata": {
    "ExecuteTime": {
     "end_time": "2024-06-27T20:18:00.189332Z",
     "start_time": "2024-06-27T20:18:00.186384Z"
    }
   },
   "cell_type": "code",
   "source": "input_file_sagar_molformer = base_path+'alignment_olfaction_datasets/data/curated_datasets/embeddings/molformer/sagar_molformer_embeddings_'+str(13)+'_Apr17.csv'",
   "id": "49ca1a0d3992e958",
   "outputs": [],
   "execution_count": 62
  },
  {
   "metadata": {
    "ExecuteTime": {
     "end_time": "2024-06-27T20:18:34.773815Z",
     "start_time": "2024-06-27T20:18:00.371686Z"
    }
   },
   "cell_type": "code",
   "source": [
    "df_keller = pd.read_csv(input_file_keller_molformer)\n",
    "df_keller = prepare_dataset(df_keller)\n"
   ],
   "id": "e061b5150b910edd",
   "outputs": [],
   "execution_count": 63
  },
  {
   "metadata": {
    "ExecuteTime": {
     "end_time": "2024-06-27T20:18:36.085990Z",
     "start_time": "2024-06-27T20:18:34.775240Z"
    }
   },
   "cell_type": "code",
   "source": [
    "df_sagar = pd.read_csv(input_file_sagar_molformer)\n",
    "df_sagar = prepare_dataset(df_sagar)"
   ],
   "id": "7d594a80ef6d1bf8",
   "outputs": [],
   "execution_count": 64
  },
  {
   "metadata": {
    "ExecuteTime": {
     "end_time": "2024-06-27T20:18:36.093259Z",
     "start_time": "2024-06-27T20:18:36.086877Z"
    }
   },
   "cell_type": "code",
   "source": [
    "#embeddings extracted from MoLFormer for each molecule in the dataset\n",
    "df_sagar.embeddings"
   ],
   "id": "aca6cb5cba3b3859",
   "outputs": [
    {
     "data": {
      "text/plain": [
       "0      [0.8156763911247253, -0.23346634209156036, -0....\n",
       "1      [1.0458673238754272, -0.9369122982025146, -1.6...\n",
       "2      [0.25779300928115845, 0.005941523239016533, -0...\n",
       "3      [0.4229857623577118, 0.52702796459198, -0.3383...\n",
       "4      [0.548454225063324, -0.1952374279499054, -0.95...\n",
       "                             ...                        \n",
       "475    [1.174991250038147, 0.6831079721450806, 1.1415...\n",
       "476    [-1.0429073572158813, -0.1923341453075409, -0....\n",
       "477    [1.4491788148880005, -0.10646656155586243, 0.4...\n",
       "478    [0.6559750437736511, 0.1650933027267456, 0.419...\n",
       "479    [0.6714256405830383, 0.0357331745326519, 0.396...\n",
       "Name: embeddings, Length: 480, dtype: object"
      ]
     },
     "execution_count": 65,
     "metadata": {},
     "output_type": "execute_result"
    }
   ],
   "execution_count": 65
  },
  {
   "metadata": {
    "ExecuteTime": {
     "end_time": "2024-06-27T20:20:53.726933Z",
     "start_time": "2024-06-27T20:20:53.718510Z"
    }
   },
   "cell_type": "code",
   "source": [
    "#perceptual rating extracted  for each molecule in the dataset\n",
    "df_sagar.y"
   ],
   "id": "9a822fd10e9bc4c7",
   "outputs": [
    {
     "data": {
      "text/plain": [
       "0      [-0.8556390977443609, -0.7064748201438849, -1....\n",
       "1      [-0.8421052631578947, -0.2489208633093525, -0....\n",
       "2      [-1.0, 0.1915812366941764, -1.0, -1.0, -0.6424...\n",
       "3      [-1.0, 0.0143884892086331, -0.6825248122887714...\n",
       "4      [-0.0165413533834586, 0.7899280575539568, -1.0...\n",
       "                             ...                        \n",
       "475    [-0.28125, -0.25, -0.5, -0.3916666666666667, -...\n",
       "476    [-0.5083333333333333, -0.41875, -1.0, -0.74166...\n",
       "477    [-0.6958333333333333, -0.2416666666666667, -1....\n",
       "478    [-0.1875, -0.2770833333333333, -0.25, -0.18958...\n",
       "479    [-0.5, -0.1083333333333333, -0.5, -0.435416666...\n",
       "Name: y, Length: 480, dtype: object"
      ]
     },
     "execution_count": 71,
     "metadata": {},
     "output_type": "execute_result"
    }
   ],
   "execution_count": 71
  },
  {
   "metadata": {},
   "cell_type": "code",
   "outputs": [],
   "execution_count": null,
   "source": "",
   "id": "5e5715b8798de742"
  }
 ],
 "metadata": {
  "kernelspec": {
   "display_name": "Python 3",
   "language": "python",
   "name": "python3"
  },
  "language_info": {
   "codemirror_mode": {
    "name": "ipython",
    "version": 2
   },
   "file_extension": ".py",
   "mimetype": "text/x-python",
   "name": "python",
   "nbconvert_exporter": "python",
   "pygments_lexer": "ipython2",
   "version": "2.7.6"
  }
 },
 "nbformat": 4,
 "nbformat_minor": 5
}
